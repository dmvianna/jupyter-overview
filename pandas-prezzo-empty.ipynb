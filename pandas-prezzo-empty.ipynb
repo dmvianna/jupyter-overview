{
 "cells": [
  {
   "cell_type": "markdown",
   "id": "built-northern",
   "metadata": {},
   "source": [
    "## Why pandas?"
   ]
  },
  {
   "cell_type": "markdown",
   "id": "opposed-vienna",
   "metadata": {},
   "source": [
    "- pandas is a multitool - it has all the basic things one wants when exploring a dataset;\n",
    "- pandas is quick to code - being a multitool, load, transformation, summarisation and visualisation come all built in;\n",
    "- pandas is Python - and its gravity pulls every other tool towards compatibility and seamless integration."
   ]
  },
  {
   "cell_type": "code",
   "execution_count": null,
   "id": "centered-allowance",
   "metadata": {},
   "outputs": [],
   "source": [
    "import pandas as pd\n",
    "import numpy as np\n",
    "pd.options.display.max_rows = 2"
   ]
  },
  {
   "cell_type": "markdown",
   "id": "loving-chinese",
   "metadata": {},
   "source": [
    "### 1. loading data"
   ]
  },
  {
   "cell_type": "code",
   "execution_count": null,
   "id": "light-april",
   "metadata": {},
   "outputs": [],
   "source": [
    "!ls *.csv"
   ]
  },
  {
   "cell_type": "code",
   "execution_count": null,
   "id": "chemical-hungary",
   "metadata": {},
   "outputs": [],
   "source": [
    "v = pd.read_csv('country_vaccinations.csv', parse_dates=['date'])\n",
    "v"
   ]
  },
  {
   "cell_type": "code",
   "execution_count": null,
   "id": "about-editing",
   "metadata": {},
   "outputs": [],
   "source": [
    "c = pd.read_csv('continents2.csv')\n",
    "c"
   ]
  },
  {
   "cell_type": "markdown",
   "id": "collaborative-insert",
   "metadata": {},
   "source": [
    "## Now we have vaccination data. How many people are already vaccinated?"
   ]
  },
  {
   "cell_type": "code",
   "execution_count": null,
   "id": "located-collect",
   "metadata": {},
   "outputs": [],
   "source": [
    "v.daily_vaccinations.sum()"
   ]
  },
  {
   "cell_type": "code",
   "execution_count": null,
   "id": "retired-cleaners",
   "metadata": {},
   "outputs": [],
   "source": [
    "v.date.max()"
   ]
  },
  {
   "cell_type": "markdown",
   "id": "integral-terrain",
   "metadata": {},
   "source": [
    "## by country"
   ]
  },
  {
   "cell_type": "code",
   "execution_count": null,
   "id": "optimum-cambodia",
   "metadata": {},
   "outputs": [],
   "source": [
    "vc = v.groupby(['country']).daily_vaccinations.sum().sort_values()\n",
    "vc"
   ]
  },
  {
   "cell_type": "markdown",
   "id": "humanitarian-paraguay",
   "metadata": {},
   "source": [
    "## by region?"
   ]
  },
  {
   "cell_type": "code",
   "execution_count": null,
   "id": "fatty-master",
   "metadata": {},
   "outputs": [],
   "source": [
    "vc = v.merge(c, left_on='country', right_on='name').groupby(['sub-region', 'date']).daily_vaccinations.sum().sort_values().unstack('sub-region').cumsum()\n",
    "vc"
   ]
  },
  {
   "cell_type": "markdown",
   "id": "musical-prototype",
   "metadata": {},
   "source": [
    "# Let's plot!"
   ]
  },
  {
   "cell_type": "code",
   "execution_count": null,
   "id": "prescription-jenny",
   "metadata": {
    "scrolled": true
   },
   "outputs": [],
   "source": [
    "vc.plot(title='sub-region').legend(loc='center left', bbox_to_anchor=(1,.5))"
   ]
  }
 ],
 "metadata": {
  "kernelspec": {
   "display_name": "Python 3",
   "language": "python",
   "name": "python3"
  },
  "language_info": {
   "codemirror_mode": {
    "name": "ipython",
    "version": 3
   },
   "file_extension": ".py",
   "mimetype": "text/x-python",
   "name": "python",
   "nbconvert_exporter": "python",
   "pygments_lexer": "ipython3",
   "version": "3.8.6"
  }
 },
 "nbformat": 4,
 "nbformat_minor": 5
}
