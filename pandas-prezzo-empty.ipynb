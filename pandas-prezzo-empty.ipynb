{
 "cells": [
  {
   "cell_type": "markdown",
   "id": "built-northern",
   "metadata": {},
   "source": [
    "## Why pandas?"
   ]
  },
  {
   "cell_type": "markdown",
   "id": "opposed-vienna",
   "metadata": {},
   "source": [
    "- pandas is a multitool - it has all the basic things one wants when exploring a dataset;\n",
    "- pandas is quick to code - being a multitool, load, transformation, summarisation and visualisation come all built in;\n",
    "- pandas is Python - and its gravity pulls every other tool towards compatibility and seamless integration."
   ]
  },
  {
   "cell_type": "code",
   "execution_count": null,
   "id": "centered-allowance",
   "metadata": {},
   "outputs": [],
   "source": [
    "import pandas as pd\n",
    "import numpy as np\n",
    "pd.options.display.max_rows = 2"
   ]
  },
  {
   "cell_type": "markdown",
   "id": "loving-chinese",
   "metadata": {},
   "source": [
    "### 1. loading data"
   ]
  },
  {
   "cell_type": "code",
   "execution_count": null,
   "id": "moral-dylan",
   "metadata": {},
   "outputs": [],
   "source": []
  },
  {
   "cell_type": "markdown",
   "id": "collaborative-insert",
   "metadata": {},
   "source": [
    "## Now we have vaccination data. How many people are already vaccinated?"
   ]
  },
  {
   "cell_type": "code",
   "execution_count": null,
   "id": "limiting-journal",
   "metadata": {},
   "outputs": [],
   "source": []
  },
  {
   "cell_type": "markdown",
   "id": "humanitarian-paraguay",
   "metadata": {},
   "source": [
    "## by region?"
   ]
  },
  {
   "cell_type": "code",
   "execution_count": null,
   "id": "loving-anatomy",
   "metadata": {},
   "outputs": [],
   "source": []
  },
  {
   "cell_type": "markdown",
   "id": "electoral-collaboration",
   "metadata": {},
   "source": [
    "## how are they trending?"
   ]
  },
  {
   "cell_type": "code",
   "execution_count": null,
   "id": "arctic-checklist",
   "metadata": {},
   "outputs": [],
   "source": []
  },
  {
   "cell_type": "markdown",
   "id": "undefined-poison",
   "metadata": {},
   "source": [
    "## 9 things floating in the air\n",
    "time to pin some things down"
   ]
  },
  {
   "cell_type": "code",
   "execution_count": null,
   "id": "separate-colleague",
   "metadata": {},
   "outputs": [],
   "source": []
  },
  {
   "cell_type": "markdown",
   "id": "automatic-scoop",
   "metadata": {},
   "source": [
    "# percentage of population?"
   ]
  },
  {
   "cell_type": "code",
   "execution_count": null,
   "id": "theoretical-mechanics",
   "metadata": {},
   "outputs": [],
   "source": []
  }
 ],
 "metadata": {
  "kernelspec": {
   "display_name": "Python 3",
   "language": "python",
   "name": "python3"
  },
  "language_info": {
   "codemirror_mode": {
    "name": "ipython",
    "version": 3
   },
   "file_extension": ".py",
   "mimetype": "text/x-python",
   "name": "python",
   "nbconvert_exporter": "python",
   "pygments_lexer": "ipython3",
   "version": "3.8.6"
  }
 },
 "nbformat": 4,
 "nbformat_minor": 5
}
