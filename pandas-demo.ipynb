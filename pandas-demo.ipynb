{
 "cells": [
  {
   "cell_type": "markdown",
   "id": "enclosed-cooking",
   "metadata": {},
   "source": [
    "# We want to play with `pandas`"
   ]
  },
  {
   "cell_type": "code",
   "execution_count": null,
   "id": "swiss-crown",
   "metadata": {},
   "outputs": [],
   "source": [
    "import pandas as pd\n",
    "import numpy as np\n",
    "pd.options.display.max_rows = 2"
   ]
  },
  {
   "cell_type": "markdown",
   "id": "precise-prior",
   "metadata": {},
   "source": [
    "## so we're importing some data for starters"
   ]
  },
  {
   "cell_type": "code",
   "execution_count": null,
   "id": "educational-weight",
   "metadata": {},
   "outputs": [],
   "source": [
    "d = pd.read_csv('country_vaccinations.csv', parse_dates=['date'])\n",
    "d"
   ]
  },
  {
   "cell_type": "code",
   "execution_count": null,
   "id": "virtual-worst",
   "metadata": {},
   "outputs": [],
   "source": [
    "c = pd.read_csv('continents2.csv')\n",
    "c"
   ]
  },
  {
   "cell_type": "markdown",
   "id": "international-rendering",
   "metadata": {},
   "source": [
    "## We want to know each sub region is faring... \n",
    "but to do that we need ratios eventually"
   ]
  },
  {
   "cell_type": "code",
   "execution_count": null,
   "id": "seven-breed",
   "metadata": {},
   "outputs": [],
   "source": [
    "p = pd.read_csv('population_by_country_2020.csv')\n",
    "p"
   ]
  },
  {
   "cell_type": "markdown",
   "id": "crazy-stretch",
   "metadata": {},
   "source": [
    "## Let the show begin. How many already vaccinated?"
   ]
  },
  {
   "cell_type": "code",
   "execution_count": null,
   "id": "supposed-marshall",
   "metadata": {},
   "outputs": [],
   "source": [
    "pd.options.display.max_rows = 20\n",
    "d.groupby(['vaccines','country']).people_fully_vaccinated.sum().sort_values()"
   ]
  },
  {
   "cell_type": "markdown",
   "id": "soviet-metabolism",
   "metadata": {},
   "source": [
    "## By manufacturer?"
   ]
  },
  {
   "cell_type": "code",
   "execution_count": null,
   "id": "necessary-watershed",
   "metadata": {},
   "outputs": [],
   "source": [
    "(\n",
    "    d\n",
    "    .groupby(['vaccines','date'])\n",
    "    .daily_vaccinations\n",
    "    .sum()\n",
    "    .unstack(['vaccines'])\n",
    "    .plot()\n",
    "    .legend(loc='center left', bbox_to_anchor=(1.0, 0.5))\n",
    ")"
   ]
  },
  {
   "cell_type": "markdown",
   "id": "acknowledged-thing",
   "metadata": {},
   "source": [
    "One stands out, and the list is not that huge, although it is hard to tell by colour"
   ]
  },
  {
   "cell_type": "markdown",
   "id": "devoted-german",
   "metadata": {},
   "source": [
    "## By country?"
   ]
  },
  {
   "cell_type": "code",
   "execution_count": null,
   "id": "close-growing",
   "metadata": {},
   "outputs": [],
   "source": [
    "(\n",
    "    d\n",
    "    .groupby(['country','date'])\n",
    "    .daily_vaccinations\n",
    "    .sum()\n",
    "    .where(lambda x: x > 0, np.NaN)\n",
    "    .dropna()\n",
    "    .unstack(['country'])\n",
    "    .plot()\n",
    "    .legend(loc='center left', bbox_to_anchor=(1.0, 0.5))\n",
    ")"
   ]
  },
  {
   "cell_type": "markdown",
   "id": "thermal-sheep",
   "metadata": {},
   "source": [
    "Even filtering out the zeroes, it is still a big list. Can't read that!"
   ]
  },
  {
   "cell_type": "markdown",
   "id": "unlike-estonia",
   "metadata": {},
   "source": [
    "So let's enrich the dataset"
   ]
  },
  {
   "cell_type": "code",
   "execution_count": null,
   "id": "rational-medium",
   "metadata": {},
   "outputs": [],
   "source": [
    "dc = d.merge(c, left_on=['iso_code'], right_on=['alpha-3'])\n",
    "\n",
    "(\n",
    "    dc\n",
    "    .groupby(['sub-region','date'])\n",
    "    .daily_vaccinations\n",
    "    .sum()\n",
    "    .where(lambda x: x > 0, np.NaN)\n",
    "    .dropna()\n",
    "    .unstack(['sub-region'])\n",
    "    .plot()\n",
    "    .legend(loc='center left', bbox_to_anchor=(1.0, 0.5))\n",
    ")"
   ]
  },
  {
   "cell_type": "markdown",
   "id": "soviet-example",
   "metadata": {},
   "source": [
    "## I don't like the messy dates. Let's resample"
   ]
  },
  {
   "cell_type": "code",
   "execution_count": null,
   "id": "frozen-footage",
   "metadata": {},
   "outputs": [],
   "source": [
    "(\n",
    "    dc\n",
    "    .groupby(['sub-region','date'])\n",
    "    .daily_vaccinations\n",
    "    .sum()\n",
    "    .where(lambda x: x > 0, np.NaN)\n",
    "    .dropna()\n",
    "    .unstack(['sub-region'])\n",
    "    .resample(rule='D')\n",
    "    .sum()\n",
    "    .plot()\n",
    "    .legend(loc='center left', bbox_to_anchor=(1.0, 0.5))\n",
    ")"
   ]
  },
  {
   "cell_type": "markdown",
   "id": "royal-spice",
   "metadata": {},
   "source": [
    "## cumulative?"
   ]
  },
  {
   "cell_type": "code",
   "execution_count": null,
   "id": "adult-double",
   "metadata": {},
   "outputs": [],
   "source": [
    "(\n",
    "    dc\n",
    "    .groupby(['sub-region','date'])\n",
    "    .daily_vaccinations\n",
    "    .sum()\n",
    "    .where(lambda x: x > 0, np.NaN)\n",
    "    .dropna()\n",
    "    .unstack(['sub-region'])\n",
    "    .resample(rule='D')\n",
    "    .sum()\n",
    "    .cumsum()\n",
    "    .plot()\n",
    "    .legend(loc='center left', bbox_to_anchor=(1.0, 0.5))\n",
    ")"
   ]
  },
  {
   "cell_type": "markdown",
   "id": "numerical-metro",
   "metadata": {},
   "source": [
    "## By population percentage?"
   ]
  },
  {
   "cell_type": "code",
   "execution_count": null,
   "id": "center-score",
   "metadata": {},
   "outputs": [],
   "source": [
    "dc"
   ]
  },
  {
   "cell_type": "code",
   "execution_count": null,
   "id": "intense-fifteen",
   "metadata": {},
   "outputs": [],
   "source": [
    "p"
   ]
  },
  {
   "cell_type": "code",
   "execution_count": null,
   "id": "moral-victor",
   "metadata": {},
   "outputs": [],
   "source": [
    "dcp = dc.merge(p, left_on=['country'], right_on=['Country (or dependency)'], how='inner')\n",
    "dcp"
   ]
  },
  {
   "cell_type": "code",
   "execution_count": null,
   "id": "common-planning",
   "metadata": {},
   "outputs": [],
   "source": [
    "(\n",
    "    dc\n",
    "    .groupby(['country','date'])\n",
    "    .daily_vaccinations\n",
    "    .sum()\n",
    "    .where(lambda x: x > 0, np.NaN)\n",
    "    .dropna()\n",
    "    .unstack(['country'])\n",
    "    .resample(rule='D')\n",
    "    .sum()\n",
    "    .cumsum()\n",
    "    .stack(['country'])\n",
    "    .to_frame('vac_cumsum')\n",
    "    .reset_index()\n",
    "    .merge(p, left_on=['country'], right_on=['Country (or dependency)'], how='inner')\n",
    "    .assign(vac_ratio=lambda x: x.vac_cumsum / x['Population (2020)'])\n",
    "    .set_index(['date','country'])\n",
    "    .unstack(['country'])\n",
    "    .vac_ratio\n",
    "    .plot()\n",
    "    .legend(loc='center left', bbox_to_anchor=(1.0, 0.5))\n",
    ")"
   ]
  },
  {
   "cell_type": "code",
   "execution_count": null,
   "id": "elementary-onion",
   "metadata": {},
   "outputs": [],
   "source": [
    "dcp.loc[dcp['sub-region'].isin(['Western Asia'])].set_index('country').daily_vaccinations.idxmax()"
   ]
  },
  {
   "cell_type": "code",
   "execution_count": null,
   "id": "artificial-satisfaction",
   "metadata": {},
   "outputs": [],
   "source": [
    "pd.options.display.max_rows = 200\n",
    "\n",
    "(\n",
    "    dc\n",
    "    .groupby(['country','date'])\n",
    "    .daily_vaccinations\n",
    "    .sum()\n",
    "    .where(lambda x: x > 0, np.NaN)\n",
    "    .dropna()\n",
    "    .unstack(['country'])\n",
    "    .resample(rule='D')\n",
    "    .sum()\n",
    "    .cumsum()\n",
    "    .stack(['country'])\n",
    "    .to_frame('vac_cumsum')\n",
    "    .reset_index()\n",
    "    .merge(p, left_on=['country'], right_on=['Country (or dependency)'], how='inner')\n",
    "    .assign(vac_ratio=lambda x: x.vac_cumsum / x['Population (2020)'])\n",
    "    .set_index(['date','country'])\n",
    "    .unstack(['country'])\n",
    "    .vac_ratio\n",
    "    .max()\n",
    "    .sort_values(ascending=False)\n",
    "    ) * 100"
   ]
  },
  {
   "cell_type": "code",
   "execution_count": null,
   "id": "painted-kansas",
   "metadata": {},
   "outputs": [],
   "source": [
    "p.set_index(['Country (or dependency)']).loc['Israel']"
   ]
  },
  {
   "cell_type": "code",
   "execution_count": null,
   "id": "specific-improvement",
   "metadata": {},
   "outputs": [],
   "source": []
  }
 ],
 "metadata": {
  "kernelspec": {
   "display_name": "Python 3",
   "language": "python",
   "name": "python3"
  },
  "language_info": {
   "codemirror_mode": {
    "name": "ipython",
    "version": 3
   },
   "file_extension": ".py",
   "mimetype": "text/x-python",
   "name": "python",
   "nbconvert_exporter": "python",
   "pygments_lexer": "ipython3",
   "version": "3.8.6"
  }
 },
 "nbformat": 4,
 "nbformat_minor": 5
}
