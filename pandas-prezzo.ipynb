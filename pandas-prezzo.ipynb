{
 "cells": [
  {
   "cell_type": "markdown",
   "id": "built-northern",
   "metadata": {},
   "source": [
    "## Why pandas?"
   ]
  },
  {
   "cell_type": "markdown",
   "id": "opposed-vienna",
   "metadata": {},
   "source": [
    "- pandas is a multitool - it has all the basic things one wants when exploring a dataset;\n",
    "- pandas is quick to code - being a multitool, load, transformation, summarisation and visualisation come all built in;\n",
    "- pandas is Python - and its gravity pulls every other tool towards compatibility and seamless integration."
   ]
  },
  {
   "cell_type": "code",
   "execution_count": null,
   "id": "centered-allowance",
   "metadata": {},
   "outputs": [],
   "source": [
    "import pandas as pd\n",
    "import numpy as np\n",
    "pd.options.display.max_rows = 2"
   ]
  },
  {
   "cell_type": "markdown",
   "id": "loving-chinese",
   "metadata": {},
   "source": [
    "### 1. loading data"
   ]
  },
  {
   "cell_type": "code",
   "execution_count": null,
   "id": "different-dallas",
   "metadata": {},
   "outputs": [],
   "source": [
    "!ls *.csv"
   ]
  },
  {
   "cell_type": "code",
   "execution_count": null,
   "id": "exotic-saudi",
   "metadata": {},
   "outputs": [],
   "source": [
    "v = pd.read_csv(\"country_vaccinations.csv\", parse_dates=['date'])\n",
    "v"
   ]
  },
  {
   "cell_type": "code",
   "execution_count": null,
   "id": "determined-correction",
   "metadata": {},
   "outputs": [],
   "source": [
    "c = pd.read_csv(\"continents2.csv\")\n",
    "c"
   ]
  },
  {
   "cell_type": "code",
   "execution_count": null,
   "id": "normal-mailing",
   "metadata": {},
   "outputs": [],
   "source": [
    "p = pd.read_csv(\"population_by_country_2020.csv\")\n",
    "p"
   ]
  },
  {
   "cell_type": "markdown",
   "id": "collaborative-insert",
   "metadata": {},
   "source": [
    "## Now we have vaccination data. How many people are already vaccinated?"
   ]
  },
  {
   "cell_type": "code",
   "execution_count": null,
   "id": "caroline-nowhere",
   "metadata": {},
   "outputs": [],
   "source": [
    "v.daily_vaccinations.sum()"
   ]
  },
  {
   "cell_type": "code",
   "execution_count": null,
   "id": "protecting-stanley",
   "metadata": {},
   "outputs": [],
   "source": [
    "v.groupby(['country']).daily_vaccinations.sum().sort_values(ascending=False).to_frame().T.astype(int)"
   ]
  },
  {
   "cell_type": "code",
   "execution_count": null,
   "id": "found-paper",
   "metadata": {},
   "outputs": [],
   "source": [
    "v.date.max()"
   ]
  },
  {
   "cell_type": "markdown",
   "id": "humanitarian-paraguay",
   "metadata": {},
   "source": [
    "## by region?"
   ]
  },
  {
   "cell_type": "code",
   "execution_count": null,
   "id": "differential-burlington",
   "metadata": {},
   "outputs": [],
   "source": [
    "v.merge(c, left_on='country', right_on='name').groupby('sub-region').daily_vaccinations.sum().sort_values(ascending=False).to_frame().T.astype(int)"
   ]
  },
  {
   "cell_type": "code",
   "execution_count": null,
   "id": "supported-psychiatry",
   "metadata": {},
   "outputs": [],
   "source": [
    "(\n",
    "    v\n",
    "    .merge(c, left_on='country', right_on='name')\n",
    "    .groupby('sub-region')\n",
    "    .daily_vaccinations\n",
    "    .sum()\n",
    "    .sort_values(ascending=False)\n",
    "    .to_frame()\n",
    "    .T\n",
    "    .astype(int)\n",
    ")"
   ]
  },
  {
   "cell_type": "markdown",
   "id": "electoral-collaboration",
   "metadata": {},
   "source": [
    "## how are they trending?"
   ]
  },
  {
   "cell_type": "code",
   "execution_count": null,
   "id": "according-tragedy",
   "metadata": {},
   "outputs": [],
   "source": [
    "(\n",
    "    v\n",
    "    .merge(c, left_on='country', right_on='name')\n",
    "    .groupby(['date','sub-region'])\n",
    "    .daily_vaccinations\n",
    "    .sum()\n",
    "    .sort_values(ascending=False)\n",
    "    .unstack('sub-region')\n",
    "    .cumsum()\n",
    "    .plot()\n",
    "    .legend(loc='center left', bbox_to_anchor=(1.0, 0.5))\n",
    ")"
   ]
  },
  {
   "cell_type": "markdown",
   "id": "undefined-poison",
   "metadata": {},
   "source": [
    "## 9 things floating in the air\n",
    "time to pin some things down"
   ]
  },
  {
   "cell_type": "code",
   "execution_count": null,
   "id": "growing-equipment",
   "metadata": {},
   "outputs": [],
   "source": [
    "csum = (\n",
    "    v\n",
    "    .merge(c, left_on='country', right_on='name')\n",
    "    .groupby(['date','country'])\n",
    "    .daily_vaccinations\n",
    "    .sum()\n",
    "    .sort_values(ascending=False)\n",
    "    .unstack('country')\n",
    "    .cumsum()\n",
    "    .stack('country')\n",
    "    .to_frame('vaccination_progress')\n",
    "    .reset_index()\n",
    ")\n",
    "csum"
   ]
  },
  {
   "cell_type": "markdown",
   "id": "automatic-scoop",
   "metadata": {},
   "source": [
    "# percentage of population?"
   ]
  },
  {
   "cell_type": "code",
   "execution_count": null,
   "id": "ambient-steal",
   "metadata": {},
   "outputs": [],
   "source": [
    "cp = csum.merge(p, left_on='country', right_on='Country (or dependency)')\n",
    "cp"
   ]
  },
  {
   "cell_type": "code",
   "execution_count": null,
   "id": "ranging-emerald",
   "metadata": {},
   "outputs": [],
   "source": [
    "cp['perc_vac'] = cp.vaccination_progress / cp['Population (2020)'] * 100\n",
    "cpg = cp.groupby(['date','country']).perc_vac.sum().unstack('country')\n",
    "cpg"
   ]
  },
  {
   "cell_type": "code",
   "execution_count": null,
   "id": "trained-cliff",
   "metadata": {},
   "outputs": [],
   "source": [
    "cpg.fillna(method='ffill').iloc[-1].sort_values(ascending=False)"
   ]
  },
  {
   "cell_type": "code",
   "execution_count": null,
   "id": "theoretical-mechanics",
   "metadata": {},
   "outputs": [],
   "source": []
  }
 ],
 "metadata": {
  "kernelspec": {
   "display_name": "Python 3",
   "language": "python",
   "name": "python3"
  },
  "language_info": {
   "codemirror_mode": {
    "name": "ipython",
    "version": 3
   },
   "file_extension": ".py",
   "mimetype": "text/x-python",
   "name": "python",
   "nbconvert_exporter": "python",
   "pygments_lexer": "ipython3",
   "version": "3.8.6"
  }
 },
 "nbformat": 4,
 "nbformat_minor": 5
}
